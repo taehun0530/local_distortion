{
 "cells": [
  {
   "cell_type": "code",
   "execution_count": 1,
   "metadata": {},
   "outputs": [],
   "source": [
    "from ase.io import write, read, espresso\n",
    "from ase import Atom, Atoms\n",
    "from ase.visualize import view\n",
    "import numpy as np\n",
    "import string, sys, math"
   ]
  },
  {
   "cell_type": "code",
   "execution_count": 2,
   "metadata": {},
   "outputs": [
    {
     "name": "stdout",
     "output_type": "stream",
     "text": [
      "Cell([12.253159523, 10.6115484238, 17.1177005768])\n"
     ]
    }
   ],
   "source": [
    "# Read POSCAR that contains the supercell\n",
    "inp = read('POSCAR') #lattice constant information\n",
    "orig = Atoms(inp)\n",
    "chemical = inp.get_chemical_symbols()\n",
    "atoms_position = inp.get_scaled_positions()\n",
    "print(inp.cell)\n",
    "\n",
    "%mkdir str"
   ]
  },
  {
   "cell_type": "markdown",
   "metadata": {},
   "source": [
    "| Defect type | Centered atoms | Considered charge states | Recipe \n",
    "|-|-|-|-|\n",
    "| polaron | Rh | -1 | 5% elongation\n",
    "| polaron | Cu | -1 | 5% elongation\n",
    "| V_Cu | V_Cu | Neutral, -1, -2 | 5% contraction\n",
    "| Cu@Fe | Cu@Fe | Neutral, -1, -2 | no bonding change"
   ]
  },
  {
   "cell_type": "code",
   "execution_count": 3,
   "metadata": {
    "jupyter": {
     "source_hidden": true
    }
   },
   "outputs": [],
   "source": [
    "#low accuracy input options\n",
    "data = dict({\n",
    "         'restart_mode':       'from_scratch',\n",
    "         'calculation':        'relax',\n",
    "         'verbosity':          'low',\n",
    "         'nstep':              400,\n",
    "         'tprnfor':            True,\n",
    "         'etot_conv_thr':      1e-3, #default: 1e-4 \n",
    "         'forc_conv_thr':      1e-2, #default: 1e-3 \n",
    "         'wf_collect':         True,\n",
    "         'disk_io':            'low',\n",
    "         'tot_charge':         0.0,\n",
    "         'ecutwfc':            80.0,\n",
    "         'ecutrho':            320.0,\n",
    "         'nosym':              True,\n",
    "         'occupations':        'smearing',\n",
    "         'smearing':           'mv',\n",
    "         'input_dft':          'scan',\n",
    "         'esm_bc':             'pbc',\n",
    "         'electron_maxstep':   800,\n",
    "         'conv_thr':           1e-4, #default: 1e-6\n",
    "         'mixing_mode':        'plain',\n",
    "         'mixing_beta':        0.7,\n",
    "         'nspin':              1,\n",
    "         'diagonalization':    'david',\n",
    "         'startingwfc':        'atomic+random',\n",
    "         'ion_dynamics':       'bfgs',\n",
    "         'pot_extrapolation':  'atomic',\n",
    "         'wfc_extrapolation':  'none',    \n",
    "#        'pseudo_dir':         '/home/552/thl552/raijin_home_2019-11-15/thl552/workspace/collins/qe/pp/', #raijin\n",
    "         'pseudo_dir':         '/home01/x1837a02/program/pp_oncv/', #nurion\n",
    "        })\n",
    "\n",
    "pseudo = dict({\n",
    "    'O': 'O_ONCV_PBE-1.2.upf',\n",
    "    'Rh': 'Rh_ONCV_PBE-1.2.upf',\n",
    "    'Cu': 'Cu_ONCV_PBE-1.2.upf',\n",
    "    'H': 'H_ONCV_PBE-1.2.upf'\n",
    "})\n",
    "\n",
    "kspacing = None #gamma point only, orignal value: 0.05"
   ]
  },
  {
   "cell_type": "code",
   "execution_count": 4,
   "metadata": {},
   "outputs": [
    {
     "name": "stdout",
     "output_type": "stream",
     "text": [
      "--------\n",
      "center atom: Rh 6\n",
      "--------\n",
      "[orig]\n",
      "O |   atomic number:  131 |   bond length:  2.038\n",
      "O |   atomic number:  133 |   bond length:  2.038\n",
      "O |   atomic number:  142 |   bond length:  2.038\n",
      "O |   atomic number:  180 |   bond length:  2.038\n",
      "O |   atomic number:  182 |   bond length:  2.038\n",
      "O |   atomic number:  189 |   bond length:  2.038\n",
      "--------\n",
      "[new]\n",
      "O |   atomic number:  131 |   bond length:  2.140\n",
      "O |   atomic number:  133 |   bond length:  2.140\n",
      "O |   atomic number:  142 |   bond length:  2.140\n",
      "O |   atomic number:  180 |   bond length:  2.140\n",
      "O |   atomic number:  182 |   bond length:  2.140\n",
      "O |   atomic number:  189 |   bond length:  2.140\n",
      "/home/taehun/project_curho2/defects/str_model/str\n",
      "/home/taehun/project_curho2/defects/str_model\n"
     ]
    }
   ],
   "source": [
    "####polaron @Rh\n",
    "\n",
    "#Scale factor sf - denotes how much distortion from the original bond is needed (in %).\n",
    "sf = 1.05 #input\n",
    "\n",
    "##To get bonding information of center atom and surrounding atoms\n",
    "#atomic number of center atoms from vesta\n",
    "vesta_center_atom = 6 #input\n",
    "center_atom = vesta_center_atom - 1\n",
    "\n",
    "#atomic number of sorrounding atoms of the center atom from vetsta\n",
    "vesta_surrounding_atoms = np.array([131, 133, 142, 180, 182, 189]) #input\n",
    "atoms = vesta_surrounding_atoms - 1\n",
    "\n",
    "#To get bonding distances\n",
    "distance = []\n",
    "for i in atoms:\n",
    "    distance.append(inp.get_distance(center_atom, i, mic=True))\n",
    "distance = np.array(distance)\n",
    "\n",
    "#Adjust the bonds using scale factor\n",
    "scaled_distance = distance * sf\n",
    "\n",
    "#Set new surrounding atomic position with periodic boundary conditions\n",
    "for i, j in zip(atoms, scaled_distance):\n",
    "    inp.set_distance(center_atom, i, j, fix=0, mic=True)\n",
    "\n",
    "#output\n",
    "print(\"--------\")\n",
    "print(\"center atom:\",chemical[center_atom], vesta_center_atom)\n",
    "print(\"--------\")\n",
    "print(\"[orig]\")\n",
    "for i, j, k in zip(atoms, distance, vesta_surrounding_atoms):\n",
    "    print(chemical[i], \"|   atomic number: \",k,\"|   bond length: \", format(j,\".3f\"))\n",
    "print(\"--------\")\n",
    "print(\"[new]\")\n",
    "for i, j, k in zip(atoms, scaled_distance, vesta_surrounding_atoms):\n",
    "    print(chemical[i], \"|   atomic number: \",k,\"|   bond length: \", format(j,\".3f\"))\n",
    "\n",
    "path = %pwd\n",
    "%cd $path/str\n",
    "pw_in = open('%.2f_polaron_rh.in'%sf, 'w')\n",
    "espresso.write_espresso_in(pw_in, inp, input_data = data, pseudopotentials = pseudo, kspacing = kspacing, crystal_coordinates = True, koffset=(0, 0, 0))\n",
    "pw_in.close()\n",
    "write('%.2f_polaron_rh.vasp'%sf, inp, vasp5 = True)\n",
    "%cd .."
   ]
  },
  {
   "cell_type": "code",
   "execution_count": 5,
   "metadata": {},
   "outputs": [
    {
     "name": "stdout",
     "output_type": "stream",
     "text": [
      "--------\n",
      "center atom: Cu 78\n",
      "--------\n",
      "[orig]\n",
      "O |   atomic number:  142 |   bond length:  1.812\n",
      "O |   atomic number:  158 |   bond length:  1.844\n",
      "--------\n",
      "[new]\n",
      "O |   atomic number:  142 |   bond length:  1.902\n",
      "O |   atomic number:  158 |   bond length:  1.936\n",
      "/home/taehun/project_curho2/defects/str_model/str\n",
      "/home/taehun/project_curho2/defects/str_model\n"
     ]
    }
   ],
   "source": [
    "####polaron @cu\n",
    "inp = read('POSCAR')\n",
    "\n",
    "#Scale factor sf - denotes how much distortion from the original bond is needed (in %).\n",
    "sf = 1.05 #input\n",
    "\n",
    "##To get bonding information of center atom and surrounding atoms\n",
    "#atomic number of center atoms from vesta\n",
    "vesta_center_atom = 78 #input\n",
    "center_atom = vesta_center_atom - 1\n",
    "\n",
    "#atomic number of sorrounding atoms of the center atom from vetsta\n",
    "vesta_surrounding_atoms = np.array([142, 158]) #input\n",
    "atoms = vesta_surrounding_atoms - 1\n",
    "\n",
    "#To get bonding distances\n",
    "distance = []\n",
    "for i in atoms:\n",
    "    distance.append(inp.get_distance(center_atom, i, mic=True))\n",
    "distance = np.array(distance)\n",
    "\n",
    "#Adjust the bonds using scale factor\n",
    "scaled_distance = distance * sf\n",
    "\n",
    "#Set new surrounding atomic position with periodic boundary conditions\n",
    "for i, j in zip(atoms, scaled_distance):\n",
    "    inp.set_distance(center_atom, i, j, fix=0, mic=True)\n",
    "\n",
    "#output\n",
    "print(\"--------\")\n",
    "print(\"center atom:\",chemical[center_atom], vesta_center_atom)\n",
    "print(\"--------\")\n",
    "print(\"[orig]\")\n",
    "for i, j, k in zip(atoms, distance, vesta_surrounding_atoms):\n",
    "    print(chemical[i], \"|   atomic number: \",k,\"|   bond length: \", format(j,\".3f\"))\n",
    "print(\"--------\")\n",
    "print(\"[new]\")\n",
    "for i, j, k in zip(atoms, scaled_distance, vesta_surrounding_atoms):\n",
    "    print(chemical[i], \"|   atomic number: \",k,\"|   bond length: \", format(j,\".3f\"))\n",
    "\n",
    "path = %pwd\n",
    "%cd $path/str\n",
    "pw_in = open('%.2f_polaron_cu.in'%sf, 'w')\n",
    "espresso.write_espresso_in(pw_in, inp, input_data = data, pseudopotentials = pseudo, kspacing = kspacing, crystal_coordinates = True, koffset=(0, 0, 0))\n",
    "pw_in.close()\n",
    "write('%.2f_polaron_cu.vasp'%sf, inp, vasp5 = True)\n",
    "%cd .."
   ]
  },
  {
   "cell_type": "code",
   "execution_count": 6,
   "metadata": {},
   "outputs": [
    {
     "name": "stdout",
     "output_type": "stream",
     "text": [
      "--------\n",
      "vacancy atom: Cu 78\n",
      "--------\n",
      "/home/taehun/project_curho2/defects/str_model/str\n",
      "/home/taehun/project_curho2/defects/str_model\n"
     ]
    }
   ],
   "source": [
    "####vacancy cu\n",
    "inp = read('POSCAR')\n",
    "\n",
    "##To get bonding information of center atom and surrounding atoms\n",
    "#atomic number of center atoms from vesta\n",
    "vesta_vacancy_atom = 78 #input\n",
    "vacancy_atom = vesta_vacancy_atom - 1\n",
    "\n",
    "#atomic number of sorrounding atoms of the center atom from vetsta\n",
    "vesta_surrounding_atoms = np.array([142, 158]) #input\n",
    "atoms = vesta_surrounding_atoms - 1\n",
    "\n",
    "#To get bonding distances\n",
    "distance = []\n",
    "for i in atoms:\n",
    "    distance.append(inp.get_distance(vacancy_atom, i, mic=True))\n",
    "distance = np.array(distance)\n",
    "\n",
    "#output\n",
    "print(\"--------\")\n",
    "print(\"vacancy atom:\",chemical[vacancy_atom], vesta_vacancy_atom)\n",
    "print(\"--------\")\n",
    "\n",
    "#creation of vacancy    \n",
    "del inp[vacancy_atom]\n",
    "\n",
    "path = %pwd\n",
    "%cd $path/str\n",
    "pw_in = open('%.2f_vacancy_cu.in'%sf, 'w')\n",
    "espresso.write_espresso_in(pw_in, inp, input_data = data, pseudopotentials = pseudo, kspacing = kspacing, crystal_coordinates = True, koffset=(0, 0, 0))\n",
    "pw_in.close()\n",
    "write('%.2f_vacancy_cu.vasp'%sf, inp, vasp5 = True)\n",
    "%cd ..    "
   ]
  },
  {
   "cell_type": "code",
   "execution_count": 7,
   "metadata": {},
   "outputs": [
    {
     "name": "stdout",
     "output_type": "stream",
     "text": [
      "/home/taehun/project_curho2/defects/str_model/str\n",
      "/home/taehun/project_curho2/defects/str_model\n",
      "--------\n",
      "Antistie atom: Cu 6\n",
      "--------\n"
     ]
    }
   ],
   "source": [
    "####Antisite cu@Rh (no structural distortion)\n",
    "inp = read('POSCAR')\n",
    "\n",
    "#atomic number of center atoms from vesta\n",
    "vesta_center_atom = 6 #input\n",
    "center_atom = vesta_center_atom - 1\n",
    "chemical = inp.get_chemical_symbols()\n",
    "chemical[center_atom] = 'Cu'\n",
    "inp.set_chemical_symbols(chemical)\n",
    "\n",
    "path = %pwd\n",
    "%cd $path/str\n",
    "pw_in = open('1.00_cu_at_fe.in', 'w')\n",
    "espresso.write_espresso_in(pw_in, inp, input_data = data, pseudopotentials = pseudo, kspacing = kspacing, crystal_coordinates = True, koffset=(0, 0, 0))\n",
    "pw_in.close()\n",
    "write('1.00_cu_at_fe.vasp', inp, vasp5 = True)\n",
    "%cd ..    \n",
    "\n",
    "#output\n",
    "print(\"--------\")\n",
    "print(\"Antistie atom:\",chemical[center_atom], vesta_center_atom)\n",
    "print(\"--------\")"
   ]
  },
  {
   "cell_type": "raw",
   "metadata": {},
   "source": [
    "%pwd\n",
    "%rm -r str"
   ]
  },
  {
   "cell_type": "code",
   "execution_count": null,
   "metadata": {},
   "outputs": [],
   "source": []
  }
 ],
 "metadata": {
  "kernelspec": {
   "display_name": "Python 3",
   "language": "python",
   "name": "python3"
  },
  "language_info": {
   "codemirror_mode": {
    "name": "ipython",
    "version": 3
   },
   "file_extension": ".py",
   "mimetype": "text/x-python",
   "name": "python",
   "nbconvert_exporter": "python",
   "pygments_lexer": "ipython3",
   "version": "3.8.3"
  }
 },
 "nbformat": 4,
 "nbformat_minor": 4
}
